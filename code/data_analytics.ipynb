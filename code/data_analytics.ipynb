{
 "cells": [
  {
   "cell_type": "code",
   "execution_count": 1,
   "source": [
    "import json\r\n",
    "import pprint\r\n",
    "\r\n",
    "import matplotlib.pyplot as plt\r\n",
    "import pandas as pd\r\n",
    "import datetime"
   ],
   "outputs": [],
   "metadata": {}
  },
  {
   "cell_type": "code",
   "execution_count": 4,
   "source": [
    "gamerName = input(\"소환사명을 입력하세요.\")\r\n",
    "gamerName"
   ],
   "outputs": [
    {
     "output_type": "execute_result",
     "data": {
      "text/plain": [
       "'미니언142'"
      ]
     },
     "metadata": {},
     "execution_count": 4
    }
   ],
   "metadata": {}
  },
  {
   "cell_type": "code",
   "execution_count": 5,
   "source": [
    "userId = None\r\n",
    "with open(f\"../data/{gamerName}_userId.txt\", \"r\") as userId_file:\r\n",
    "  userId = int(userId_file.read().strip())\r\n",
    "userId"
   ],
   "outputs": [
    {
     "output_type": "execute_result",
     "data": {
      "text/plain": [
       "203449844"
      ]
     },
     "metadata": {},
     "execution_count": 5
    }
   ],
   "metadata": {}
  },
  {
   "cell_type": "code",
   "execution_count": 6,
   "source": [
    "def call_log(gamerName):\r\n",
    "  with open(f\"../data/{gamerName}_gameInfo.json\", \"r\") as json_log:\r\n",
    "    gameInfo = json.load(json_log)\r\n",
    "  with open(f\"../data/{gamerName}_timeline.json\", \"r\") as json_log:\r\n",
    "    timeline = json.load(json_log)\r\n",
    "  return gameInfo, timeline\r\n",
    "\r\n",
    "gameInfo, timeline = call_log(gamerName)"
   ],
   "outputs": [],
   "metadata": {}
  },
  {
   "cell_type": "code",
   "execution_count": 7,
   "source": [
    "def find_me(userId, gameIndex):\r\n",
    "  for player in gameInfo[gameIndex]['participantIdentities']:\r\n",
    "    if player['player']['accountId'] == userId:\r\n",
    "      return player['participantId']"
   ],
   "outputs": [],
   "metadata": {}
  },
  {
   "cell_type": "code",
   "execution_count": 8,
   "source": [
    "win_rate = []\r\n",
    "for gameIndex in range(len(gameInfo)):\r\n",
    "  for player in gameInfo[gameIndex]['participants']:\r\n",
    "    if player['participantId'] == find_me(userId, gameIndex):\r\n",
    "      win_rate.append(player['stats']['win'])"
   ],
   "outputs": [],
   "metadata": {}
  },
  {
   "cell_type": "code",
   "execution_count": 15,
   "source": [
    "# 승률 구하는 부분\r\n",
    "sum(win_rate) / len(win_rate) * 100"
   ],
   "outputs": [
    {
     "output_type": "execute_result",
     "data": {
      "text/plain": [
       "56.09756097560976"
      ]
     },
     "metadata": {},
     "execution_count": 15
    }
   ],
   "metadata": {}
  },
  {
   "cell_type": "markdown",
   "source": [
    "# 매치 승률 구하기"
   ],
   "metadata": {}
  },
  {
   "cell_type": "markdown",
   "source": [
    "## 시간대별 게임 수 시각화"
   ],
   "metadata": {}
  },
  {
   "cell_type": "code",
   "execution_count": 9,
   "source": [
    "gameDay = []\r\n",
    "for i in range(len(gameInfo)):\r\n",
    "  gameDay.append(int(datetime.datetime.fromtimestamp(gameInfo[i]['gameCreation'] // 1000).strftime(\"%H\")))"
   ],
   "outputs": [],
   "metadata": {}
  },
  {
   "cell_type": "code",
   "execution_count": 10,
   "source": [
    "# Prepare Data\r\n",
    "df = pd.Series(gameDay)\r\n",
    "df = df.value_counts()\r\n",
    "for i in range(24):\r\n",
    "  if i not in df.index:\r\n",
    "    df[i] = 0"
   ],
   "outputs": [],
   "metadata": {}
  },
  {
   "cell_type": "code",
   "execution_count": 11,
   "source": [
    "# Draw plot\r\n",
    "fig, ax = plt.subplots(figsize=(8,5), dpi= 80)\r\n",
    "ax.vlines(x=df.index, ymin=0, ymax=df.values, color='firebrick', alpha=0.7, linewidth=2)\r\n",
    "ax.scatter(x=df.index, y=df.values, s=25, color='firebrick', alpha=0.7)\r\n",
    "\r\n",
    "# Title, Label, Ticks and Ylim\r\n",
    "ax.set_title('match per day', fontdict={'size':22})\r\n",
    "ax.set_ylabel('match')\r\n",
    "ax.set_xticks(df.index)\r\n",
    "ax.set_xticklabels(df.index, rotation=0, fontdict={'horizontalalignment': 'center', 'size':10})\r\n",
    "ax.set_ylim(0, df.values.max() + 10)\r\n",
    "\r\n",
    "# Annotate\r\n",
    "for index, value in df.iteritems():\r\n",
    "  ax.text(index, value+.5, s=round(value, 2), horizontalalignment= 'center', verticalalignment='bottom', fontsize=10)\r\n",
    "\r\n",
    "plt.show()"
   ],
   "outputs": [
    {
     "output_type": "display_data",
     "data": {
      "text/plain": [
       "<Figure size 640x400 with 1 Axes>"
      ],
      "image/png": "[encoded data removed]"
     },
     "metadata": {
      "needs_background": "light"
     }
    }
   ],
   "metadata": {}
  },
  {
   "cell_type": "markdown",
   "source": [
    "## 매치승률 구하기"
   ],
   "metadata": {}
  },
  {
   "cell_type": "code",
   "execution_count": 12,
   "source": [
    "WinPerDayDf = pd.DataFrame()\r\n",
    "for i in range(len(gameInfo)):\r\n",
    "  WinPerDay = pd.Series()\r\n",
    "  WinPerDay['datetime'], WinPerDay['Hour'] = list(map(int, datetime.datetime.fromtimestamp(gameInfo[i]['gameCreation'] // 1000).strftime(\"%Y%m%d,%H\").split(',')))\r\n",
    "  # print(WinPerDay['datetime'], WinPerDay['Hour'])\r\n",
    "  for player in gameInfo[i]['participants']:\r\n",
    "    if player['participantId'] == find_me(userId, i):\r\n",
    "      WinPerDay['win'] = player['stats']['win']\r\n",
    "      break\r\n",
    "  WinPerDayDf = WinPerDayDf.append(WinPerDay, ignore_index=True)"
   ],
   "outputs": [
    {
     "output_type": "stream",
     "name": "stderr",
     "text": [
      "<ipython-input-12-22bee9cbddcf>:3: DeprecationWarning: The default dtype for empty Series will be 'object' instead of 'float64' in a future version. Specify a dtype explicitly to silence this warning.\n",
      "  WinPerDay = pd.Series()\n"
     ]
    }
   ],
   "metadata": {}
  },
  {
   "cell_type": "code",
   "execution_count": 13,
   "source": [
    "WinPerDayDf['Hour'] = WinPerDayDf['Hour'].astype(int)\r\n",
    "WinPerDayDf['datetime'] = WinPerDayDf['datetime'].astype(int)\r\n",
    "WinPerDayDf['win'] = WinPerDayDf['win'].astype(bool)"
   ],
   "outputs": [],
   "metadata": {}
  },
  {
   "cell_type": "code",
   "execution_count": 14,
   "source": [
    "sortedWinPerDayDf = WinPerDayDf.sort_values(by=['datetime', 'Hour'])\r\n",
    "sortedWinPerDayDf"
   ],
   "outputs": [
    {
     "output_type": "execute_result",
     "data": {
      "text/plain": [
       "     Hour  datetime    win\n",
       "322    14  20191019   True\n",
       "323    15  20191019   True\n",
       "324    17  20200105  False\n",
       "325    18  20200105   True\n",
       "326    19  20200225   True\n",
       "..    ...       ...    ...\n",
       "7       0  20210723  False\n",
       "8       1  20210723   True\n",
       "9      22  20210724   True\n",
       "10     23  20210724   True\n",
       "11      0  20210725   True\n",
       "\n",
       "[328 rows x 3 columns]"
      ],
      "text/html": [
       "<div>\n",
       "<style scoped>\n",
       "    .dataframe tbody tr th:only-of-type {\n",
       "        vertical-align: middle;\n",
       "    }\n",
       "\n",
       "    .dataframe tbody tr th {\n",
       "        vertical-align: top;\n",
       "    }\n",
       "\n",
       "    .dataframe thead th {\n",
       "        text-align: right;\n",
       "    }\n",
       "</style>\n",
       "<table border=\"1\" class=\"dataframe\">\n",
       "  <thead>\n",
       "    <tr style=\"text-align: right;\">\n",
       "      <th></th>\n",
       "      <th>Hour</th>\n",
       "      <th>datetime</th>\n",
       "      <th>win</th>\n",
       "    </tr>\n",
       "  </thead>\n",
       "  <tbody>\n",
       "    <tr>\n",
       "      <th>322</th>\n",
       "      <td>14</td>\n",
       "      <td>20191019</td>\n",
       "      <td>True</td>\n",
       "    </tr>\n",
       "    <tr>\n",
       "      <th>323</th>\n",
       "      <td>15</td>\n",
       "      <td>20191019</td>\n",
       "      <td>True</td>\n",
       "    </tr>\n",
       "    <tr>\n",
       "      <th>324</th>\n",
       "      <td>17</td>\n",
       "      <td>20200105</td>\n",
       "      <td>False</td>\n",
       "    </tr>\n",
       "    <tr>\n",
       "      <th>325</th>\n",
       "      <td>18</td>\n",
       "      <td>20200105</td>\n",
       "      <td>True</td>\n",
       "    </tr>\n",
       "    <tr>\n",
       "      <th>326</th>\n",
       "      <td>19</td>\n",
       "      <td>20200225</td>\n",
       "      <td>True</td>\n",
       "    </tr>\n",
       "    <tr>\n",
       "      <th>...</th>\n",
       "      <td>...</td>\n",
       "      <td>...</td>\n",
       "      <td>...</td>\n",
       "    </tr>\n",
       "    <tr>\n",
       "      <th>7</th>\n",
       "      <td>0</td>\n",
       "      <td>20210723</td>\n",
       "      <td>False</td>\n",
       "    </tr>\n",
       "    <tr>\n",
       "      <th>8</th>\n",
       "      <td>1</td>\n",
       "      <td>20210723</td>\n",
       "      <td>True</td>\n",
       "    </tr>\n",
       "    <tr>\n",
       "      <th>9</th>\n",
       "      <td>22</td>\n",
       "      <td>20210724</td>\n",
       "      <td>True</td>\n",
       "    </tr>\n",
       "    <tr>\n",
       "      <th>10</th>\n",
       "      <td>23</td>\n",
       "      <td>20210724</td>\n",
       "      <td>True</td>\n",
       "    </tr>\n",
       "    <tr>\n",
       "      <th>11</th>\n",
       "      <td>0</td>\n",
       "      <td>20210725</td>\n",
       "      <td>True</td>\n",
       "    </tr>\n",
       "  </tbody>\n",
       "</table>\n",
       "<p>328 rows × 3 columns</p>\n",
       "</div>"
      ]
     },
     "metadata": {},
     "execution_count": 14
    }
   ],
   "metadata": {}
  },
  {
   "cell_type": "code",
   "execution_count": 15,
   "source": [
    "totalGame = []\r\n",
    "oneGame = []\r\n",
    "prevDate = [sortedWinPerDayDf.iloc[0]['datetime'], sortedWinPerDayDf.iloc[0]['Hour']]\r\n",
    "currDate = None\r\n",
    "for index, row in sortedWinPerDayDf.iterrows():\r\n",
    "  currDate = [row['datetime'], row['Hour']]\r\n",
    "  if prevDate[0] == currDate[0] or (prevDate[0] + 1 == currDate[0] and currDate[1] < 6):\r\n",
    "    oneGame.append(row['win'])\r\n",
    "  else:\r\n",
    "    prevDate = currDate\r\n",
    "    totalGame.append(oneGame)\r\n",
    "    oneGame = [row['win']]"
   ],
   "outputs": [],
   "metadata": {}
  },
  {
   "cell_type": "code",
   "execution_count": 16,
   "source": [
    "matchWinRate = []\r\n",
    "for i in totalGame:\r\n",
    "  win_or_defeat = 0\r\n",
    "  for j in i:\r\n",
    "    win_or_defeat += float(j) - 0.5\r\n",
    "  if win_or_defeat > 0:\r\n",
    "    # print(\"승리\")\r\n",
    "    matchWinRate.append(1)\r\n",
    "  # elif win_or_defeat == 0:\r\n",
    "  #   # print(\"무승부\")\r\n",
    "  #   matchWinRate.append(0)\r\n",
    "  else :\r\n",
    "    # print(\"패배\")\r\n",
    "    matchWinRate.append(0)"
   ],
   "outputs": [],
   "metadata": {}
  },
  {
   "cell_type": "code",
   "execution_count": 17,
   "source": [
    "sum(matchWinRate) / len(matchWinRate)"
   ],
   "outputs": [
    {
     "output_type": "execute_result",
     "data": {
      "text/plain": [
       "0.514018691588785"
      ]
     },
     "metadata": {},
     "execution_count": 17
    }
   ],
   "metadata": {}
  },
  {
   "cell_type": "code",
   "execution_count": null,
   "source": [],
   "outputs": [],
   "metadata": {}
  }
 ],
 "metadata": {
  "orig_nbformat": 4,
  "language_info": {
   "name": "python",
   "version": "3.8.6",
   "mimetype": "text/x-python",
   "codemirror_mode": {
    "name": "ipython",
    "version": 3
   },
   "pygments_lexer": "ipython3",
   "nbconvert_exporter": "python",
   "file_extension": ".py"
  },
  "kernelspec": {
   "name": "python3",
   "display_name": "Python 3.8.6 64-bit"
  },
  "interpreter": {
   "hash": "2db524e06e9f5f4ffedc911c917cb75e12dbc923643829bf417064a77eb14d37"
  }
 },
 "nbformat": 4,
 "nbformat_minor": 2
}