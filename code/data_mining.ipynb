{
 "cells": [
  {
   "cell_type": "code",
   "execution_count": 2,
   "source": [
    "from selenium import webdriver\r\n",
    "\r\n",
    "from selenium.webdriver.common.keys import Keys\r\n",
    "from selenium.webdriver.common.by import By\r\n",
    "\r\n",
    "from selenium.webdriver.support import expected_conditions as EC\r\n",
    "from selenium.webdriver.support.ui import WebDriverWait\r\n",
    "\r\n",
    "import time\r\n",
    "import datetime\r\n",
    "import requests"
   ],
   "outputs": [],
   "metadata": {}
  },
  {
   "cell_type": "code",
   "execution_count": 3,
   "source": [
    "URL = 'https://na.leagueoflegends.com/ko-kr/'\r\n",
    "\r\n",
    "options = webdriver.ChromeOptions()\r\n",
    "options.add_argument(\"--start-maximized\")\r\n",
    "driver = webdriver.Chrome(executable_path='../chromedriver', options=options)\r\n",
    "driver.get(url=URL)"
   ],
   "outputs": [],
   "metadata": {}
  },
  {
   "cell_type": "code",
   "execution_count": 4,
   "source": [
    "# 로그인 화면 들어가기\r\n",
    "try:\r\n",
    "    login_button = WebDriverWait(driver, 5).until(\r\n",
    "        EC.presence_of_element_located((By.XPATH , '//*[@id=\"riotbar-right-content\"]/div[3]/div[1]/a'))\r\n",
    "    )\r\n",
    "except:\r\n",
    "    driver.quit()\r\n",
    "login_button.click()"
   ],
   "outputs": [],
   "metadata": {}
  },
  {
   "cell_type": "code",
   "execution_count": 5,
   "source": [
    "# username, password 넣기\r\n",
    "try:\r\n",
    "    username = WebDriverWait(driver, 5).until(\r\n",
    "        EC.presence_of_element_located((By.NAME , 'username'))\r\n",
    "    )\r\n",
    "    password = WebDriverWait(driver, 5).until(\r\n",
    "        EC.presence_of_element_located((By.NAME , 'password'))\r\n",
    "    )\r\n",
    "except:\r\n",
    "    driver.quit()"
   ],
   "outputs": [],
   "metadata": {}
  },
  {
   "cell_type": "code",
   "execution_count": 6,
   "source": [
    "with open(\"idpw.txt\", 'r') as idpw:\r\n",
    "  id, pw = idpw.read().split()\r\n",
    "  username.send_keys(id)\r\n",
    "  password.send_keys(pw)\r\n",
    "  password.send_keys(Keys.RETURN)"
   ],
   "outputs": [],
   "metadata": {}
  },
  {
   "cell_type": "code",
   "execution_count": 7,
   "source": [
    "time.sleep(5)\r\n",
    "driver.get(\"https://matchhistory.kr.leagueoflegends.com/\")\r\n",
    "time.sleep(5)"
   ],
   "outputs": [],
   "metadata": {}
  },
  {
   "cell_type": "code",
   "execution_count": 8,
   "source": [
    "# userId 받아오는 부분\r\n",
    "userId = int(driver.current_url.split('/')[-1])\r\n",
    "userId"
   ],
   "outputs": [
    {
     "output_type": "execute_result",
     "data": {
      "text/plain": [
       "203449844"
      ]
     },
     "metadata": {},
     "execution_count": 8
    }
   ],
   "metadata": {}
  },
  {
   "cell_type": "code",
   "execution_count": 9,
   "source": [
    "s = requests.Session()\r\n",
    "headers = {\r\n",
    "  'User-Agent': 'Mozilla/5.0 (Windows NT 10.0; Win64; x64) AppleWebKit/537.36 (KHTML, like Gecko) Chrome/91.0.4472.124 Safari/537.36'\r\n",
    "}\r\n",
    "s.headers.update(headers)\r\n",
    "\r\n",
    "for cookie in driver.get_cookies():\r\n",
    "  c = {cookie['name'] : cookie['value']}\r\n",
    "  s.cookies.update(c)"
   ],
   "outputs": [],
   "metadata": {}
  },
  {
   "cell_type": "code",
   "execution_count": 10,
   "source": [
    "import json\r\n",
    "import pprint"
   ],
   "outputs": [],
   "metadata": {}
  },
  {
   "cell_type": "code",
   "execution_count": 15,
   "source": [
    "start = 0\r\n",
    "end = 20\r\n",
    "gameIds = []\r\n",
    "gamerName = \"\"\r\n",
    "while(start != end):\r\n",
    "  match_info_get_url = f'https://acs.leagueoflegends.com/v1/stats/player_history/KR/{userId}?begIndex={start}&endIndex={end}&queue=0'\r\n",
    "  res = s.get(match_info_get_url)\r\n",
    "  # with open(f\"{start}_{end}.log\", \"w\") as log_file:\r\n",
    "  #   pprint.pprint(json.loads(res.text), log_file)\r\n",
    "\r\n",
    "  result = json.loads(res.text)\r\n",
    "  if start == 0:\r\n",
    "    gamerName = result['games']['games'][0]['participantIdentities'][0]['player']['summonerName']\r\n",
    "    with open(f\"../data/{gamerName}_userId.txt\", \"w\") as userId_file:\r\n",
    "      userId_file.write(str(userId))\r\n",
    "  for game in result['games']['games']:\r\n",
    "    if game['gameMode'] == 'CLASSIC':\r\n",
    "      gameIds.append(game['gameId'])\r\n",
    "  start = end\r\n",
    "  if end < result['games']['gameCount']:\r\n",
    "    end += 20"
   ],
   "outputs": [],
   "metadata": {}
  },
  {
   "cell_type": "code",
   "execution_count": 16,
   "source": [
    "timeline = []\r\n",
    "gameInfo = []\r\n",
    "for gameId in gameIds:\r\n",
    "  timeline_get_url = f\"https://acs.leagueoflegends.com/v1/stats/game/KR/{gameId}/timeline\"\r\n",
    "  gameInfo_get_url = f\"https://acs.leagueoflegends.com/v1/stats/game/KR/{gameId}\"\r\n",
    "  timeline_response = s.get(timeline_get_url)\r\n",
    "  timeline.append(json.loads(timeline_response.text))\r\n",
    "  gameInfo_response = s.get(gameInfo_get_url)\r\n",
    "  gameInfo.append(json.loads(gameInfo_response.text))"
   ],
   "outputs": [],
   "metadata": {}
  },
  {
   "cell_type": "code",
   "execution_count": 20,
   "source": [
    "with open(f\"../data/{gameName}_timeline.json\", \"w\") as json_file:\r\n",
    "  json.dump(timeline, json_file)\r\n",
    "with open(f\"../data/{gameName}_gameInfo.json\", \"w\") as json_file:\r\n",
    "  json.dump(gameInfo, json_file)"
   ],
   "outputs": [],
   "metadata": {}
  }
 ],
 "metadata": {
  "orig_nbformat": 4,
  "language_info": {
   "name": "python",
   "version": "3.8.6",
   "mimetype": "text/x-python",
   "codemirror_mode": {
    "name": "ipython",
    "version": 3
   },
   "pygments_lexer": "ipython3",
   "nbconvert_exporter": "python",
   "file_extension": ".py"
  },
  "kernelspec": {
   "name": "python3",
   "display_name": "Python 3.8.6 64-bit"
  },
  "interpreter": {
   "hash": "2db524e06e9f5f4ffedc911c917cb75e12dbc923643829bf417064a77eb14d37"
  }
 },
 "nbformat": 4,
 "nbformat_minor": 2
}